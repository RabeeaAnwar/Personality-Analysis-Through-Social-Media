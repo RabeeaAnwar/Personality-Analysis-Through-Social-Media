{
  "cells": [
    {
      "cell_type": "code",
      "source": [
        "import tweepy as tp\n",
        "import re\n",
        "from nltk.sentiment.vader import SentimentIntensityAnalyzer"
      ],
      "outputs": [],
      "execution_count": 60,
      "metadata": {
        "ExecuteTime": {
          "end_time": "2018-07-01T12:32:30.824836Z",
          "start_time": "2018-07-01T12:32:30.819836Z"
        }
      }
    },
    {
      "cell_type": "code",
      "source": [
        "consumer_key='XTE6RfJK5m1LzD5i5N4Tjoxcu'\n",
        "consumer_secret='HF0ZpBLxFesoLhlwDPja8COxJS3r4QdZuegkYwnjxCsCrsiu0W'\n",
        "access_token='751370996964323329-LfGMEaDxZaTB59432PgdAWxNmXpymDJ'\n",
        "access_token_secret='RntwtUqZZ8XQVNUYXoWqpRVV1mYuO8xzXheUnpEhyqeoQ'\n",
        "\n",
        "auth=tp.OAuthHandler(consumer_key,consumer_secret)\n",
        "auth.set_access_token(access_token,access_token_secret)"
      ],
      "outputs": [],
      "execution_count": 3,
      "metadata": {
        "ExecuteTime": {
          "end_time": "2018-07-01T12:32:30.912835Z",
          "start_time": "2018-07-01T12:32:30.828838Z"
        }
      }
    },
    {
      "cell_type": "code",
      "source": [
        "api=tp.API(auth)"
      ],
      "outputs": [],
      "execution_count": 4,
      "metadata": {
        "ExecuteTime": {
          "end_time": "2018-07-01T12:32:30.994832Z",
          "start_time": "2018-07-01T12:32:30.916838Z"
        }
      }
    },
    {
      "cell_type": "code",
      "source": [
        "# for t in api.home_timeline():\n",
        "#     print(t)"
      ],
      "outputs": [],
      "execution_count": 21,
      "metadata": {
        "ExecuteTime": {
          "end_time": "2018-07-01T12:32:31.059859Z",
          "start_time": "2018-07-01T12:32:30.997837Z"
        }
      }
    },
    {
      "cell_type": "code",
      "source": [
        "user=api.get_user('maroofkay')"
      ],
      "outputs": [],
      "execution_count": 22,
      "metadata": {
        "ExecuteTime": {
          "end_time": "2018-07-01T12:32:35.466939Z",
          "start_time": "2018-07-01T12:32:31.063852Z"
        }
      }
    },
    {
      "cell_type": "code",
      "source": [
        "print(user.screen_name)"
      ],
      "outputs": [
        {
          "output_type": "stream",
          "name": "stdout",
          "text": [
            "maroofkay\n"
          ]
        }
      ],
      "execution_count": 23,
      "metadata": {
        "ExecuteTime": {
          "end_time": "2018-07-01T12:32:35.475940Z",
          "start_time": "2018-07-01T12:32:35.470943Z"
        }
      }
    },
    {
      "cell_type": "code",
      "source": [
        "print(user.name)"
      ],
      "outputs": [
        {
          "output_type": "stream",
          "name": "stdout",
          "text": [
            "Maroof Khan\n"
          ]
        }
      ],
      "execution_count": 24,
      "metadata": {
        "ExecuteTime": {
          "end_time": "2018-07-01T12:32:35.636111Z",
          "start_time": "2018-07-01T12:32:35.480939Z"
        }
      }
    },
    {
      "cell_type": "code",
      "source": [
        "print(user.statuses_count)"
      ],
      "outputs": [
        {
          "output_type": "stream",
          "name": "stdout",
          "text": [
            "1794\n"
          ]
        }
      ],
      "execution_count": 25,
      "metadata": {
        "ExecuteTime": {
          "end_time": "2018-07-01T12:32:35.712136Z",
          "start_time": "2018-07-01T12:32:35.640113Z"
        }
      }
    },
    {
      "cell_type": "code",
      "source": [
        "# print(user.status._json)"
      ],
      "outputs": [],
      "execution_count": 26,
      "metadata": {
        "ExecuteTime": {
          "end_time": "2018-07-01T12:32:35.785135Z",
          "start_time": "2018-07-01T12:32:35.718141Z"
        }
      }
    },
    {
      "cell_type": "code",
      "source": [
        "# user._json"
      ],
      "outputs": [],
      "execution_count": 27,
      "metadata": {
        "ExecuteTime": {
          "end_time": "2018-07-01T12:32:35.874580Z",
          "start_time": "2018-07-01T12:32:35.790133Z"
        }
      }
    },
    {
      "cell_type": "code",
      "source": [
        "# all_tweets=api.user_timeline('maroofkay',page=20)\n",
        "# all_tweets=tp.Cursor(api.user_timeline,id='maroofkay').items()\n",
        "# len(all_tweets)"
      ],
      "outputs": [],
      "execution_count": 28,
      "metadata": {
        "ExecuteTime": {
          "end_time": "2018-07-01T12:32:35.935602Z",
          "start_time": "2018-07-01T12:32:35.879583Z"
        }
      }
    },
    {
      "cell_type": "code",
      "source": [
        "users_list=['myounus006','thebethanyjane','sophiethesmurfy','ZuberiSpeaks','ThestoryofJS','mahatweetz','ZaraLouU','notesfromarshi','ThisIsKristin_','MichaelDewey99','joansenio1','holtbt']"
      ],
      "outputs": [],
      "execution_count": 14,
      "metadata": {
        "ExecuteTime": {
          "end_time": "2018-07-01T12:32:36.165653Z",
          "start_time": "2018-07-01T12:32:36.093652Z"
        }
      }
    },
    {
      "cell_type": "code",
      "source": [
        "len(users_list)"
      ],
      "outputs": [
        {
          "output_type": "execute_result",
          "execution_count": 7,
          "data": {
            "text/plain": [
              "11"
            ]
          },
          "metadata": {}
        }
      ],
      "execution_count": 7,
      "metadata": {
        "collapsed": false,
        "outputHidden": false,
        "inputHidden": false
      }
    },
    {
      "cell_type": "code",
      "source": [
        "sid = SentimentIntensityAnalyzer()"
      ],
      "outputs": [],
      "execution_count": 59,
      "metadata": {
        "collapsed": false,
        "outputHidden": false,
        "inputHidden": false
      }
    },
    {
      "cell_type": "code",
      "source": [
        "#remove hashtags,#remove retweet word,remoe user name which appears after @\n",
        "for user in users_list:\n",
        "    with open(f'{user}.txt','wb') as f:\n",
        "        for status in tp.Cursor(api.user_timeline,id=user).items(limit=50):\n",
        "            temp=status._json['text']\n",
        "            print(temp)\n",
        "            f.write(temp)\n",
        "        break"
      ],
      "outputs": [
        {
          "output_type": "stream",
          "name": "stdout",
          "text": [
            "https://t.co/CfYRSec2PS\n",
            "\n",
            "VaderSentimentAnalyser Best sentiment analysis library(I beleive :P)\n",
            " #sentimentanalysis  https://t.co/XrNWdu6MsS\n",
            "\n",
            "https://t.co/JLHdkXnqjh\n",
            "\n",
            "Do you remember when you joined Twitter? I do! #MyTwitterAnniversary https://t.co/VASr1dcLpH\n",
            "\n",
            "PYPL PopularitY of Programming Language index: https://t.co/kiWvhcsfAG\n",
            "\n",
            "Parliament of the netherlands: Stop Netherlands cartoon contest on prophet Muhammad  (peace be upon him) - Sign the… https://t.co/5OK8GLMYdG\n",
            "\n",
            "RT @gvanrossum: Cool sites about the Python 3 transition: https://t.co/R0HIGfO0WN, https://t.co/00WDCOtral, https://t.co/sDmPBs2sty, https:…\n",
            "\n",
            "true https://t.co/GIBfajaF0O\n",
            "\n",
            "word vectorization sucks https://t.co/w4ZlAMBr2r\n",
            "\n",
            "RT @holtbt: “Fullstack” developer. https://t.co/yfymQmJJgq\n",
            "\n",
            "RT @dsenneff: Made an SVG animated login avatar, with the help of some trigonometry &amp; GSAP. #animation #UX #gsap \n",
            "https://t.co/nfWVd0D4va h…\n",
            "\n",
            "https://t.co/RrXskL6AfM\n",
            "\n",
            "Ambient sounds to wash away distraction.\n",
            "https://t.co/TXXFr7QzRm https://t.co/SnsaGKNP2Z\n",
            "\n",
            "I just completed the course \"Natural Language Processing Fundamentals in Python\"! https://t.co/audYm8Vhjf via @DataCamp\n",
            "\n",
            "LinkedIn https://t.co/9py0OIhzeG https://t.co/agTqTlGApE\n",
            "\n",
            "MIT App Inventor | Explore MIT App Inventor https://t.co/cgx4GNzh9K https://t.co/KKcNDrQVBR\n",
            "\n",
            "@zzsa12301 heloooo\n",
            "\n",
            "slidenerd (@slidenerdtech) | Twitter https://t.co/TpH2uieGHN https://t.co/0YAaxgbP75\n",
            "\n",
            "RT @codeorg: Happy Birthday to Admiral Grace Hopper—one of the most important computer scientists ever. #CSforAll https://t.co/9L39WZf4YM\n",
            "\n",
            "The Daily Reminder (@TDR_Network) | Twitter https://t.co/6GIk2WqS09 https://t.co/MsYO5tU1cN\n",
            "\n",
            "RT @_YousufSohail: There is someone in your life who will understand those hundreds of things going in your head.\n",
            "\n",
            "https://t.co/hTKYRhCwk9 https://t.co/KqJSEKW0Rn\n",
            "\n"
          ]
        }
      ],
      "execution_count": 36,
      "metadata": {
        "ExecuteTime": {
          "end_time": "2018-07-01T12:37:33.917976Z",
          "start_time": "2018-07-01T12:35:47.724523Z"
        },
        "scrolled": true
      }
    },
    {
      "cell_type": "code",
      "source": [
        "a='RT @holtbt: “Fullstack” developer. https://t.co/yfymQmJJgq'\n",
        "re.sub(r'^RT[\\s]+','',a)"
      ],
      "outputs": [
        {
          "output_type": "execute_result",
          "execution_count": 43,
          "data": {
            "text/plain": [
              "'@holtbt: “Fullstack” developer. https://t.co/yfymQmJJgq'"
            ]
          },
          "metadata": {}
        }
      ],
      "execution_count": 43,
      "metadata": {
        "collapsed": false,
        "outputHidden": false,
        "inputHidden": false
      }
    },
    {
      "cell_type": "code",
      "source": [
        "a=re.sub(r'RT[\\s]@[\\w]+:[\\s]+','',a)"
      ],
      "outputs": [],
      "execution_count": 57,
      "metadata": {
        "collapsed": false,
        "outputHidden": false,
        "inputHidden": false
      }
    },
    {
      "cell_type": "code",
      "source": [
        "a"
      ],
      "outputs": [
        {
          "output_type": "execute_result",
          "execution_count": 58,
          "data": {
            "text/plain": [
              "'“Fullstack” developer. https://t.co/yfymQmJJgq'"
            ]
          },
          "metadata": {}
        }
      ],
      "execution_count": 58,
      "metadata": {
        "collapsed": false,
        "outputHidden": false,
        "inputHidden": false
      }
    },
    {
      "cell_type": "code",
      "source": [
        "sid.polarity_scores('I just completed the course \"Natural Language Processing Fundamentals in Python\"! https://t.co/audYm8Vhjf via @DataCamp')"
      ],
      "outputs": [
        {
          "output_type": "execute_result",
          "execution_count": 46,
          "data": {
            "text/plain": [
              "{'neg': 0.0, 'neu': 0.811, 'pos': 0.189, 'compound': 0.4199}"
            ]
          },
          "metadata": {}
        }
      ],
      "execution_count": 46,
      "metadata": {
        "collapsed": false,
        "outputHidden": false,
        "inputHidden": false
      }
    },
    {
      "cell_type": "code",
      "source": [
        "sid.polarity_scores('I just completed the course \"Natural Language Processing Fundamentals in Python\"!')"
      ],
      "outputs": [
        {
          "output_type": "execute_result",
          "execution_count": 47,
          "data": {
            "text/plain": [
              "{'neg': 0.0, 'neu': 0.763, 'pos': 0.237, 'compound': 0.4199}"
            ]
          },
          "metadata": {}
        }
      ],
      "execution_count": 47,
      "metadata": {
        "collapsed": false,
        "outputHidden": false,
        "inputHidden": false
      }
    },
    {
      "cell_type": "code",
      "source": [
        "'hello' in 'how are you mghellodkfd'.split()"
      ],
      "outputs": [
        {
          "output_type": "execute_result",
          "execution_count": 55,
          "data": {
            "text/plain": [
              "False"
            ]
          },
          "metadata": {}
        }
      ],
      "execution_count": 55,
      "metadata": {
        "collapsed": false,
        "outputHidden": false,
        "inputHidden": false
      }
    },
    {
      "cell_type": "code",
      "source": [],
      "outputs": [],
      "execution_count": null,
      "metadata": {
        "collapsed": false,
        "outputHidden": false,
        "inputHidden": false
      }
    }
  ],
  "metadata": {
    "kernelspec": {
      "name": "python3",
      "language": "python",
      "display_name": "Python 3"
    },
    "language_info": {
      "name": "python",
      "version": "3.6.5",
      "mimetype": "text/x-python",
      "codemirror_mode": {
        "name": "ipython",
        "version": 3
      },
      "pygments_lexer": "ipython3",
      "nbconvert_exporter": "python",
      "file_extension": ".py"
    },
    "kernel_info": {
      "name": "python3"
    },
    "nteract": {
      "version": "0.11.6"
    }
  },
  "nbformat": 4,
  "nbformat_minor": 2
}